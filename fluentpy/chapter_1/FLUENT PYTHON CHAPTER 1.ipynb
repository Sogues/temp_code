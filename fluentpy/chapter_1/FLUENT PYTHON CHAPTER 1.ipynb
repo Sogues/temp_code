{
 "cells": [
  {
   "cell_type": "code",
   "execution_count": 1,
   "metadata": {},
   "outputs": [
    {
     "name": "stdout",
     "output_type": "stream",
     "text": [
      "# encoding: utf-8\r\n",
      "\r\n",
      "import collections\r\n",
      "\r\n",
      "Card = collections.namedtuple('Card', ['rank', 'suit'])\r\n",
      "\r\n",
      "class FrenchDeck:\r\n",
      "    ranks = [str(n) for n in range(2, 11)] + list('JQKA')\r\n",
      "    suits = 'spades diamonds clubs hearts'.split()\r\n",
      "\r\n",
      "    def __init__(self):\r\n",
      "        self._cards = [Card(rank, suit) for suit in self.suits\r\n",
      "                                        for rank in self.ranks]\r\n",
      "\r\n",
      "    def __len__(self):\r\n",
      "        return len(self._cards)\r\n",
      "\r\n",
      "    def __getitem__(self, position):\r\n",
      "        return self._cards[position]\r\n",
      "\r\n"
     ]
    }
   ],
   "source": [
    "cat sample1_1.py"
   ]
  },
  {
   "cell_type": "code",
   "execution_count": 2,
   "metadata": {},
   "outputs": [
    {
     "name": "stdout",
     "output_type": "stream",
     "text": [
      "# encoding: utf-8\r\n",
      "\r\n",
      "\"\"\"\r\n",
      "class Vector\r\n",
      "\"\"\"\r\n",
      "from math import hypoy\r\n",
      "\r\n",
      "class Vector:\r\n",
      "    def __init__(self, x=0, y=0):\r\n",
      "        self.x = x\r\n",
      "        self.y = y\r\n",
      "\r\n",
      "    def __repr__(self):\r\n",
      "        return 'Vector(%r, %r)' % (self.x, self.y)\r\n",
      "\r\n",
      "    def __abs__(self):\r\n",
      "        return hypot(self.x, self.y)\r\n",
      "\r\n",
      "    def __bool__(self):\r\n",
      "        return bool(abs(self))\r\n",
      "\r\n",
      "    def __add__(self, other):\r\n",
      "        x = self.x + other.x\r\n",
      "        y = self.y + other.y\r\n",
      "        return Vector(x, y)\r\n",
      "\r\n",
      "    def __mul__(self, scalar):\r\n",
      "        return Vector(self.x * scalar, self.y * scalar)\r\n"
     ]
    }
   ],
   "source": [
    "cat sample1_2.py"
   ]
  },
  {
   "cell_type": "code",
   "execution_count": null,
   "metadata": {},
   "outputs": [],
   "source": []
  }
 ],
 "metadata": {
  "kernelspec": {
   "display_name": "Python 3",
   "language": "python",
   "name": "python3"
  },
  "language_info": {
   "codemirror_mode": {
    "name": "ipython",
    "version": 3
   },
   "file_extension": ".py",
   "mimetype": "text/x-python",
   "name": "python",
   "nbconvert_exporter": "python",
   "pygments_lexer": "ipython3",
   "version": "3.5.2"
  }
 },
 "nbformat": 4,
 "nbformat_minor": 2
}
